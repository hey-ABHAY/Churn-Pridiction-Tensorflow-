{
  "cells": [
    {
      "cell_type": "markdown",
      "metadata": {
        "id": "view-in-github",
        "colab_type": "text"
      },
      "source": [
        "<a href=\"https://colab.research.google.com/github/hey-ABHAY/Deep_Learning/blob/main/tensors_in_PyTorch.ipynb\" target=\"_parent\"><img src=\"https://colab.research.google.com/assets/colab-badge.svg\" alt=\"Open In Colab\"/></a>"
      ]
    },
    {
      "cell_type": "code",
      "source": [
        "import torch\n",
        "print(torch.__version__)"
      ],
      "metadata": {
        "id": "_ke2BQyVB6p_",
        "outputId": "4886267c-6f62-4732-a68e-4b066e51cbd0",
        "colab": {
          "base_uri": "https://localhost:8080/"
        }
      },
      "execution_count": null,
      "outputs": [
        {
          "output_type": "stream",
          "name": "stdout",
          "text": [
            "2.8.0+cu126\n"
          ]
        }
      ]
    },
    {
      "cell_type": "code",
      "source": [
        "if torch.cuda.is_available():\n",
        "  print(\"GPU is available\")\n",
        "  print(f\"using GPU: {torch.cuda.get_device_name(0)}\")\n",
        "else:\n",
        "  print(\"Gpu is not available\")"
      ],
      "metadata": {
        "id": "MDMA63J0B6tP",
        "outputId": "c01c33bd-03d7-4f2a-8aa9-b294e443019d",
        "colab": {
          "base_uri": "https://localhost:8080/"
        }
      },
      "execution_count": null,
      "outputs": [
        {
          "output_type": "stream",
          "name": "stdout",
          "text": [
            "Gpu is not available\n"
          ]
        }
      ]
    },
    {
      "cell_type": "code",
      "source": [
        "#empty-makes a torch of given dimensions\n",
        "a=torch.empty(2,3)\n",
        "print(a)\n",
        "print(type(a))"
      ],
      "metadata": {
        "id": "nCBGdkEKB6wH",
        "colab": {
          "base_uri": "https://localhost:8080/"
        },
        "outputId": "511e1b11-6d42-46df-9b55-ed6a7e106397"
      },
      "execution_count": null,
      "outputs": [
        {
          "output_type": "stream",
          "name": "stdout",
          "text": [
            "tensor([[1.0463e-08, 0.0000e+00, 8.7100e-12],\n",
            "        [0.0000e+00, 1.4013e-45, 3.0829e-44]])\n",
            "<class 'torch.Tensor'>\n"
          ]
        }
      ]
    },
    {
      "cell_type": "code",
      "source": [
        "#using zeroes\n",
        "print(torch.zeros(2,3))\n",
        "print(torch.ones(3,3))"
      ],
      "metadata": {
        "id": "bBl9IeSdB65x",
        "colab": {
          "base_uri": "https://localhost:8080/"
        },
        "outputId": "e32dd1a5-96ed-4ee4-a412-8fbc67797b02"
      },
      "execution_count": null,
      "outputs": [
        {
          "output_type": "stream",
          "name": "stdout",
          "text": [
            "tensor([[0., 0., 0.],\n",
            "        [0., 0., 0.]])\n",
            "tensor([[1., 1., 1.],\n",
            "        [1., 1., 1.],\n",
            "        [1., 1., 1.]])\n"
          ]
        }
      ]
    },
    {
      "cell_type": "code",
      "source": [
        "#rand --> random ,\n",
        "torch.rand(2,3)"
      ],
      "metadata": {
        "id": "MmoaHlxuB683",
        "colab": {
          "base_uri": "https://localhost:8080/"
        },
        "outputId": "feaa7561-52a5-43c5-e80a-ea46ca840b23"
      },
      "execution_count": null,
      "outputs": [
        {
          "output_type": "execute_result",
          "data": {
            "text/plain": [
              "tensor([[0.7621, 0.1719, 0.2066],\n",
              "        [0.5356, 0.2112, 0.4502]])"
            ]
          },
          "metadata": {},
          "execution_count": 8
        }
      ]
    },
    {
      "cell_type": "code",
      "source": [
        "#seed function\n",
        "torch.manual_seed(100) #functionality will be made same in the future\n",
        "print(torch.rand(2,3))"
      ],
      "metadata": {
        "id": "qtgJS2bZB6_j",
        "colab": {
          "base_uri": "https://localhost:8080/"
        },
        "outputId": "39ab3bfc-6094-4614-a8ee-5747e8182d3f"
      },
      "execution_count": null,
      "outputs": [
        {
          "output_type": "stream",
          "name": "stdout",
          "text": [
            "tensor([[0.1117, 0.8158, 0.2626],\n",
            "        [0.4839, 0.6765, 0.7539]])\n"
          ]
        }
      ]
    },
    {
      "cell_type": "code",
      "source": [
        "#using tensor-->convert to tensor\n",
        "torch.tensor([[1,2,3],[4,5,6]])"
      ],
      "metadata": {
        "id": "dRHpzsC1B7CV",
        "colab": {
          "base_uri": "https://localhost:8080/"
        },
        "outputId": "c38c8d4b-253d-441b-da55-822567c4a5a2"
      },
      "execution_count": null,
      "outputs": [
        {
          "output_type": "execute_result",
          "data": {
            "text/plain": [
              "tensor([[1, 2, 3],\n",
              "        [4, 5, 6]])"
            ]
          },
          "metadata": {},
          "execution_count": 10
        }
      ]
    },
    {
      "cell_type": "code",
      "source": [
        "#arrange\n",
        "print(\"arrange-->\",torch.arange(0,10,2))\n",
        "\n",
        "#using linspace\n",
        "print(\"Linspace-->\",torch.linspace(0,50,5))\n",
        "\n",
        "#eye-->Identity matrix\n",
        "print(\"Identity matrix-->\",torch.eye(5))\n",
        "\n",
        "#using ful\n",
        "print(\"Full-->\",torch.full((3,3),5))"
      ],
      "metadata": {
        "colab": {
          "base_uri": "https://localhost:8080/"
        },
        "id": "zw6dUXk0EYqI",
        "outputId": "6bad1f35-deb0-4890-e62e-28f260bdda2e"
      },
      "execution_count": null,
      "outputs": [
        {
          "output_type": "stream",
          "name": "stdout",
          "text": [
            "arrange--> tensor([0, 2, 4, 6, 8])\n",
            "Linspace--> tensor([ 0.0000, 12.5000, 25.0000, 37.5000, 50.0000])\n",
            "Identity matrix--> tensor([[1., 0., 0., 0., 0.],\n",
            "        [0., 1., 0., 0., 0.],\n",
            "        [0., 0., 1., 0., 0.],\n",
            "        [0., 0., 0., 1., 0.],\n",
            "        [0., 0., 0., 0., 1.]])\n",
            "Full--> tensor([[5, 5, 5],\n",
            "        [5, 5, 5],\n",
            "        [5, 5, 5]])\n"
          ]
        }
      ]
    },
    {
      "cell_type": "code",
      "source": [
        "x=torch.tensor([[1,2,3],[5,6,7]])\n",
        "print(x.shape)"
      ],
      "metadata": {
        "colab": {
          "base_uri": "https://localhost:8080/"
        },
        "id": "AACwjgv2EYnK",
        "outputId": "98a185f0-b689-4a8a-e40f-8fcfa706b4aa"
      },
      "execution_count": null,
      "outputs": [
        {
          "output_type": "stream",
          "name": "stdout",
          "text": [
            "torch.Size([2, 3])\n"
          ]
        }
      ]
    },
    {
      "cell_type": "code",
      "source": [
        "torch.empty_like(x)    #we can copy the shape of the tensor\n",
        "print(torch.zeros_like(x))\n",
        "print(torch.ones_like(x))\n"
      ],
      "metadata": {
        "colab": {
          "base_uri": "https://localhost:8080/"
        },
        "id": "WN8bxU9hEYkZ",
        "outputId": "57594267-c80e-4035-a408-6496fd53975d"
      },
      "execution_count": null,
      "outputs": [
        {
          "output_type": "stream",
          "name": "stdout",
          "text": [
            "tensor([[0, 0, 0],\n",
            "        [0, 0, 0]])\n",
            "tensor([[1, 1, 1],\n",
            "        [1, 1, 1]])\n"
          ]
        }
      ]
    },
    {
      "cell_type": "markdown",
      "source": [
        "\n",
        "**Tensor Data Type**"
      ],
      "metadata": {
        "id": "QH0qTm04GhDP"
      }
    },
    {
      "cell_type": "code",
      "source": [
        "x.dtype"
      ],
      "metadata": {
        "colab": {
          "base_uri": "https://localhost:8080/"
        },
        "id": "83NbLP5QEYXC",
        "outputId": "8a3a83f6-6fc3-410b-ab14-139fc85b71e2"
      },
      "execution_count": null,
      "outputs": [
        {
          "output_type": "execute_result",
          "data": {
            "text/plain": [
              "torch.int64"
            ]
          },
          "metadata": {},
          "execution_count": 22
        }
      ]
    },
    {
      "cell_type": "code",
      "source": [
        "#assign data type\n",
        "torch.tensor([1.0,2.0,3.0],dtype=torch.int32)"
      ],
      "metadata": {
        "colab": {
          "base_uri": "https://localhost:8080/"
        },
        "id": "11XaKOe_HId4",
        "outputId": "38241b67-4aea-4cde-a6f4-0aa5c84c6541"
      },
      "execution_count": null,
      "outputs": [
        {
          "output_type": "execute_result",
          "data": {
            "text/plain": [
              "tensor([1, 2, 3], dtype=torch.int32)"
            ]
          },
          "metadata": {},
          "execution_count": 23
        }
      ]
    },
    {
      "cell_type": "code",
      "source": [
        "torch.tensor([1,2,3],dtype=torch.float64)"
      ],
      "metadata": {
        "colab": {
          "base_uri": "https://localhost:8080/"
        },
        "id": "k87X47CvHIm9",
        "outputId": "cf4abd1e-c5ea-4ea7-aca9-4a99baba7296"
      },
      "execution_count": null,
      "outputs": [
        {
          "output_type": "execute_result",
          "data": {
            "text/plain": [
              "tensor([1., 2., 3.], dtype=torch.float64)"
            ]
          },
          "metadata": {},
          "execution_count": 27
        }
      ]
    },
    {
      "cell_type": "code",
      "source": [
        "#using .to()\n",
        "x.to(torch.float64)\n",
        "x.to(torch.int32)"
      ],
      "metadata": {
        "colab": {
          "base_uri": "https://localhost:8080/"
        },
        "id": "zg_CuqhSHItr",
        "outputId": "56213e68-6642-4212-e260-4f34038092e9"
      },
      "execution_count": null,
      "outputs": [
        {
          "output_type": "execute_result",
          "data": {
            "text/plain": [
              "tensor([[1, 2, 3],\n",
              "        [5, 6, 7]], dtype=torch.int32)"
            ]
          },
          "metadata": {},
          "execution_count": 29
        }
      ]
    },
    {
      "cell_type": "markdown",
      "source": [
        "# MAthematical operation\n"
      ],
      "metadata": {
        "id": "UVcP1biiID0T"
      }
    },
    {
      "cell_type": "code",
      "source": [
        "x+2\n",
        "x-2\n",
        "x*3\n",
        "x/3\n",
        "(x*100)//3"
      ],
      "metadata": {
        "colab": {
          "base_uri": "https://localhost:8080/"
        },
        "id": "mUAgtePhIK_J",
        "outputId": "4fa221cb-97cd-4134-95bc-15fd92b0766d"
      },
      "execution_count": null,
      "outputs": [
        {
          "output_type": "execute_result",
          "data": {
            "text/plain": [
              "tensor([[ 33,  66, 100],\n",
              "        [166, 200, 233]])"
            ]
          },
          "metadata": {},
          "execution_count": 30
        }
      ]
    },
    {
      "cell_type": "code",
      "source": [],
      "metadata": {
        "id": "72XdoNTUHIyv"
      },
      "execution_count": null,
      "outputs": []
    },
    {
      "cell_type": "code",
      "source": [],
      "metadata": {
        "id": "z4PmXAPFHI3Z"
      },
      "execution_count": null,
      "outputs": []
    }
  ],
  "metadata": {
    "colab": {
      "provenance": [],
      "include_colab_link": true
    },
    "kernelspec": {
      "display_name": "Python 3",
      "name": "python3"
    }
  },
  "nbformat": 4,
  "nbformat_minor": 0
}